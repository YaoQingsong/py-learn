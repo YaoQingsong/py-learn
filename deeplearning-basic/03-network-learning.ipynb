{
 "cells": [
  {
   "cell_type": "markdown",
   "metadata": {},
   "source": [
    "# 神经网络的学习"
   ]
  },
  {
   "cell_type": "markdown",
   "metadata": {},
   "source": [
    "## 损失函数"
   ]
  },
  {
   "cell_type": "code",
   "execution_count": 8,
   "metadata": {},
   "outputs": [
    {
     "name": "stdout",
     "output_type": "stream",
     "text": [
      "0.09750000000000003\n",
      "0.5975\n"
     ]
    }
   ],
   "source": [
    "# 均方误差\n",
    "import numpy as np\n",
    "\n",
    "def mean_squared_error(y, t):\n",
    "    return 0.5 * np.sum((y - t)**2)\n",
    "\n",
    "y1 = [0.1, 0.05, 0.6, 0.0, 0.05, 0.1, 0.0, 0.1, 0.0, 0.0]\n",
    "y2 = [0.1, 0.05, 0.1, 0.0, 0.05, 0.1, 0.0, 0.6, 0.0, 0.0]\n",
    "t = [0, 0, 1, 0, 0, 0, 0, 0, 0, 0]\n",
    "\n",
    "#损失函数值越小越准确\n",
    "print(mean_squared_error(np.array(y1),np.array(t)))\n",
    "print(mean_squared_error(np.array(y2),np.array(t)))"
   ]
  },
  {
   "cell_type": "code",
   "execution_count": 7,
   "metadata": {},
   "outputs": [
    {
     "name": "stdout",
     "output_type": "stream",
     "text": [
      "0.510825457099338\n",
      "2.302584092994546\n"
     ]
    }
   ],
   "source": [
    "#交叉熵误差\n",
    "import numpy as np\n",
    "\n",
    "def cross_entropy_error(y, t):\n",
    "    delta = 1e-7\n",
    "    #加入 delta，避免出现log(0)  -inf\n",
    "    return -np.sum(t * np.log(y + delta))\n",
    "\n",
    "y1 = [0.1, 0.05, 0.6, 0.0, 0.05, 0.1, 0.0, 0.1, 0.0, 0.0]\n",
    "y2 = [0.1, 0.05, 0.1, 0.0, 0.05, 0.1, 0.0, 0.6, 0.0, 0.0]\n",
    "t = [0, 0, 1, 0, 0, 0, 0, 0, 0, 0]\n",
    "\n",
    "print(cross_entropy_error(np.array(y1),np.array(t)))\n",
    "print(cross_entropy_error(np.array(y2),np.array(t)))"
   ]
  },
  {
   "cell_type": "code",
   "execution_count": 15,
   "metadata": {},
   "outputs": [
    {
     "name": "stdout",
     "output_type": "stream",
     "text": [
      "权重参数: [[-0.7016211   1.07147642  0.47905245]\n",
      " [-0.10310072  0.28499488 -0.51663362]]\n",
      "预测数据 [-0.51376331  0.89938124 -0.17753879]\n",
      "最大值的索引 1\n",
      "交叉熵误差 1.5368853908874287\n",
      "梯度 [[ 0.09218697  0.37878296 -0.47096993]\n",
      " [ 0.13828046  0.56817443 -0.70645489]]\n"
     ]
    }
   ],
   "source": [
    "import sys,os\n",
    "sys.path.append(os.pardir)\n",
    "import numpy as np\n",
    "from common.functions import softmax, cross_entropy_error\n",
    "from common.gradient import numerical_gradient\n",
    "\n",
    "class simpleNet:\n",
    "\n",
    "    def __init__(self):\n",
    "        self.W = np.random.randn(2,3) #用高斯分布进行初始化\n",
    "\n",
    "    def pridect(self, x):\n",
    "        return np.dot(x, self.W)\n",
    "    \n",
    "    def loss(self, x, t):\n",
    "        z = self.pridect(x)\n",
    "        y = softmax(z)\n",
    "        loss = cross_entropy_error(y, t) #交叉熵误差\n",
    "        return loss\n",
    "    \n",
    "x = np.array([0.6, 0.9]) #输入数据\n",
    "t = np.array([0, 0, 1]) #测试数据\n",
    "\n",
    "net = simpleNet()\n",
    "p = net.pridect(x)\n",
    "print(\"权重参数:\",net.W)\n",
    "print(\"预测数据\",p)\n",
    "print(\"最大值的索引\",np.argmax(p))\n",
    "print(\"交叉熵误差\",net.loss(x, t))\n",
    "\n",
    "f = lambda w: net.loss(x, t) #定义新函数是可以使用lamda表达式\n",
    "dW = numerical_gradient(f, net.W)\n",
    "\n",
    "print(\"梯度\",dW)"
   ]
  },
  {
   "cell_type": "markdown",
   "metadata": {},
   "source": [
    "# 学习算法的实现\n",
    "\n",
    "## 前提\n",
    "\n",
    "神经网络存在合适的权重和偏置，调整权重和偏置以便拟合训练数据的过程称为`学习`。神经网络的学习分成下面四个步骤\n",
    "\n",
    "## 步骤1（mini-batch）\n",
    "\n",
    "从训练数据中随机选取一部分数据，这部分数据称为`mini-batch`。我们的目标是减小mini-batch的损失函数的值\n",
    "\n",
    "## 步骤2（计算梯度）\n",
    "\n",
    "为了减小mini-batch的损失函数的值，需要求各个权重参数的梯度。梯度表示损失函数的值减小最多的方向\n",
    "\n",
    "## 步骤3（更新参数）\n",
    "\n",
    "将权重参数沿梯度方向进行微小更新。\n",
    "\n",
    "## 步骤4（重复）\n",
    "\n",
    "重复步骤1、步骤2、步骤3"
   ]
  },
  {
   "cell_type": "code",
   "execution_count": 16,
   "metadata": {},
   "outputs": [
    {
     "name": "stdout",
     "output_type": "stream",
     "text": [
      "train acc, test acc | 0.09736666666666667, 0.0982\n",
      "train acc, test acc | 0.7874166666666667, 0.7941\n",
      "train acc, test acc | 0.8783333333333333, 0.8836\n",
      "train acc, test acc | 0.8997, 0.9037\n",
      "train acc, test acc | 0.90895, 0.9115\n",
      "train acc, test acc | 0.91505, 0.9192\n",
      "train acc, test acc | 0.9206, 0.9231\n",
      "train acc, test acc | 0.9244, 0.9274\n",
      "train acc, test acc | 0.9285333333333333, 0.9296\n",
      "train acc, test acc | 0.93115, 0.9337\n",
      "train acc, test acc | 0.9346333333333333, 0.9348\n",
      "train acc, test acc | 0.9366833333333333, 0.9368\n",
      "train acc, test acc | 0.9397166666666666, 0.939\n",
      "train acc, test acc | 0.9412833333333334, 0.9408\n",
      "train acc, test acc | 0.9432, 0.9409\n",
      "train acc, test acc | 0.9451833333333334, 0.9428\n",
      "train acc, test acc | 0.9474, 0.9438\n"
     ]
    },
    {
     "data": {
      "image/png": "[encoded data removed]",
      "text/plain": [
       "<Figure size 640x480 with 1 Axes>"
      ]
     },
     "metadata": {},
     "output_type": "display_data"
    }
   ],
   "source": [
    "# coding: utf-8\n",
    "import sys, os\n",
    "sys.path.append(os.pardir)  # 为了导入父目录的文件而进行的设定\n",
    "import numpy as np\n",
    "import matplotlib.pyplot as plt\n",
    "from dataset.mnist import load_mnist\n",
    "from two_layer_net import TwoLayerNet\n",
    "\n",
    "# 读入数据\n",
    "(x_train, t_train), (x_test, t_test) = load_mnist(normalize=True, one_hot_label=True)\n",
    "\n",
    "network = TwoLayerNet(input_size=784, hidden_size=50, output_size=10)\n",
    "\n",
    "iters_num = 10000  # 适当设定循环的次数\n",
    "train_size = x_train.shape[0]\n",
    "batch_size = 100\n",
    "learning_rate = 0.1\n",
    "\n",
    "train_loss_list = []\n",
    "train_acc_list = []\n",
    "test_acc_list = []\n",
    "\n",
    "iter_per_epoch = max(train_size / batch_size, 1)\n",
    "\n",
    "for i in range(iters_num):\n",
    "    batch_mask = np.random.choice(train_size, batch_size)\n",
    "    x_batch = x_train[batch_mask]\n",
    "    t_batch = t_train[batch_mask]\n",
    "    \n",
    "    # 计算梯度\n",
    "    #grad = network.numerical_gradient(x_batch, t_batch)\n",
    "    grad = network.gradient(x_batch, t_batch)\n",
    "    \n",
    "    # 更新参数\n",
    "    for key in ('W1', 'b1', 'W2', 'b2'):\n",
    "        network.params[key] -= learning_rate * grad[key]\n",
    "    \n",
    "    loss = network.loss(x_batch, t_batch)\n",
    "    train_loss_list.append(loss)\n",
    "    \n",
    "    if i % iter_per_epoch == 0:\n",
    "        train_acc = network.accuracy(x_train, t_train)\n",
    "        test_acc = network.accuracy(x_test, t_test)\n",
    "        train_acc_list.append(train_acc)\n",
    "        test_acc_list.append(test_acc)\n",
    "        print(\"train acc, test acc | \" + str(train_acc) + \", \" + str(test_acc))\n",
    "\n",
    "# 绘制图形\n",
    "markers = {'train': 'o', 'test': 's'}\n",
    "x = np.arange(len(train_acc_list))\n",
    "plt.plot(x, train_acc_list, label='train acc')\n",
    "plt.plot(x, test_acc_list, label='test acc', linestyle='--')\n",
    "plt.xlabel(\"epochs\")\n",
    "plt.ylabel(\"accuracy\")\n",
    "plt.ylim(0, 1.0)\n",
    "plt.legend(loc='lower right')\n",
    "plt.show()"
   ]
  }
 ],
 "metadata": {
  "kernelspec": {
   "display_name": "Python 3",
   "language": "python",
   "name": "python3"
  },
  "language_info": {
   "codemirror_mode": {
    "name": "ipython",
    "version": 3
   },
   "file_extension": ".py",
   "mimetype": "text/x-python",
   "name": "python",
   "nbconvert_exporter": "python",
   "pygments_lexer": "ipython3",
   "version": "3.10.6"
  },
  "orig_nbformat": 4
 },
 "nbformat": 4,
 "nbformat_minor": 2
}
