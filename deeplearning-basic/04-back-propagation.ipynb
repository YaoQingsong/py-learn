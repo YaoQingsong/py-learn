{
 "cells": [
  {
   "cell_type": "markdown",
   "metadata": {},
   "source": [
    "# 误差反向传播法"
   ]
  },
  {
   "cell_type": "markdown",
   "metadata": {},
   "source": [
    "## 示例\n",
    "\n",
    "### 示例1（乘法）\n",
    "\n",
    "![image1](../assets/images/d-b-04-001.jpg \"苹果\")\n",
    "\n",
    "购买两个苹果，税率10%"
   ]
  },
  {
   "cell_type": "code",
   "execution_count": 7,
   "metadata": {},
   "outputs": [
    {
     "name": "stdout",
     "output_type": "stream",
     "text": [
      "200\n",
      "220.00000000000003\n",
      "2.2 1.1 200\n"
     ]
    }
   ],
   "source": [
    "# 乘法层的实现\n",
    "class MulLayer:\n",
    "    def __init__(self):\n",
    "        self.x = None\n",
    "        self.y = None\n",
    "\n",
    "    def forword(self,x ,y):\n",
    "        self.x = x\n",
    "        self.y = y\n",
    "        out = x*y\n",
    "\n",
    "        return out\n",
    "\n",
    "    def backword(self, dout):\n",
    "        dx = dout * self.y\n",
    "        dy = dout * self.x\n",
    "\n",
    "        return dx, dy\n",
    "\n",
    "    \n",
    "apple = 100\n",
    "apple_num = 2\n",
    "tax = 1.1\n",
    "\n",
    "mul_apple_layer = MulLayer()\n",
    "mul_tax_layer = MulLayer()\n",
    "\n",
    "#正向传播\n",
    "apple_price = mul_apple_layer.forword(apple, apple_num)\n",
    "price = mul_tax_layer.forword(apple_price, tax)\n",
    "print(price)\n",
    "\n",
    "#反向传播\n",
    "dprice = 1\n",
    "dapple_price, dtax = mul_tax_layer.backword(dprice)\n",
    "dapple, dapple_num = mul_apple_layer.backword(dapple_price)\n",
    "print(dapple, dapple_price, dtax)\n",
    "\n"
   ]
  },
  {
   "cell_type": "markdown",
   "metadata": {},
   "source": [
    "### 示例2\n",
    "\n",
    "![image2](../assets/images/d-b-04-002.jpg \"苹果\")\n",
    "\n",
    "购买两个苹果和三个橘子，税率10%"
   ]
  },
  {
   "cell_type": "code",
   "execution_count": 8,
   "metadata": {},
   "outputs": [
    {
     "name": "stdout",
     "output_type": "stream",
     "text": [
      "715.0000000000001\n",
      "2.2 110.00000000000001 3.3000000000000003 165.0 650\n"
     ]
    }
   ],
   "source": [
    "# 加法层的实现\n",
    "class AddLayer:\n",
    "    def __init__(self):\n",
    "        pass\n",
    "\n",
    "    def forword(self,x ,y):\n",
    "        out = x+y\n",
    "        return out\n",
    "\n",
    "    def backword(self, dout):\n",
    "        dx = dout * 1\n",
    "        dy = dout * 1\n",
    "\n",
    "        return dx, dy\n",
    "\n",
    "    \n",
    "apple = 100\n",
    "apple_num = 2\n",
    "orange = 150\n",
    "orange_num = 3\n",
    "tax = 1.1\n",
    "\n",
    "mul_apple_layer = MulLayer()\n",
    "mul_orange_layer = MulLayer()\n",
    "add_apple_orange_layer = AddLayer()\n",
    "mul_tax_layer = MulLayer()\n",
    "\n",
    "#正向传播\n",
    "apple_price = mul_apple_layer.forword(apple, apple_num)\n",
    "orange_price = mul_orange_layer.forword(orange, orange_num)\n",
    "all_price = add_apple_orange_layer.forword(apple_price, orange_price)\n",
    "price = mul_tax_layer.forword(all_price, tax)\n",
    "print(price)\n",
    "\n",
    "#反向传播\n",
    "dprice = 1\n",
    "dall_price, dtax = mul_tax_layer.backword(dprice)\n",
    "dapple_price, dorange_price = add_apple_orange_layer.backword(dall_price)\n",
    "aorange, dorange_num = mul_orange_layer.backword(dorange_price)\n",
    "dapple, dapple_num = mul_apple_layer.backword(dapple_price)\n",
    "print(dapple, dapple_num, aorange, dorange_num, dtax)"
   ]
  },
  {
   "cell_type": "markdown",
   "metadata": {},
   "source": [
    "## 激活函数层"
   ]
  },
  {
   "cell_type": "markdown",
   "metadata": {},
   "source": [
    "### ReLu层\n",
    "\n",
    "激活函数ReLU可以由如下函数是表示:\n",
    "\n",
    "$ \n",
    "y = \n",
    "\\begin{cases}  \n",
    "x  (x > 0) \\\\\n",
    "0  (x \\leq 0)\n",
    "\\end{cases}\n",
    "$\n",
    "\n",
    "求导，\n",
    "\n",
    "\n",
    "$ \n",
    "\\frac{d}{dx}y =\n",
    "\\begin{cases}  \n",
    "1  (x > 0) \\\\\n",
    "0  (x \\leq 0)\n",
    "\\end{cases}\n",
    "$\n"
   ]
  },
  {
   "cell_type": "code",
   "execution_count": 10,
   "metadata": {},
   "outputs": [
    {
     "name": "stdout",
     "output_type": "stream",
     "text": [
      "[[ 1.  -0.5]\n",
      " [-2.   3. ]]\n",
      "[[False  True]\n",
      " [ True False]]\n"
     ]
    }
   ],
   "source": [
    "import numpy as np\n",
    "\n",
    "class Relu:\n",
    "\n",
    "    def __init__(self):\n",
    "        self.mask = None\n",
    "\n",
    "    def forword(self, x):\n",
    "        self.mask = (x <= 0)\n",
    "        out = x.copy()\n",
    "        out[self.mask] = 0\n",
    "        return out\n",
    "    \n",
    "    def backword(self, dout):\n",
    "        dout[self.mask] = 0\n",
    "        dx = dout\n",
    "        return dx\n",
    "    \n",
    "x = np.array([[1.0, -0.5], [-2.0, 3.0]])\n",
    "print(x)\n",
    "\n",
    "mask = (x <= 0)\n",
    "print(mask)"
   ]
  },
  {
   "cell_type": "markdown",
   "metadata": {},
   "source": [
    "### Sigmoid层\n",
    "\n",
    "激活函数ReLU可以由如下函数是表示:\n",
    "\n",
    "$ y = \\frac{1}{ 1 + {exp(-x)}}$\n",
    "\n",
    "\n",
    "\n",
    "![image2](../assets/images/d-b-04-003.jpg \"sigmoid反向传播\")\n",
    "\n",
    "\n",
    "$ \n",
    "\\frac{\\partial L}{\\partial y} y^2 exp(-x) \n",
    "= \\frac{\\partial L}{\\partial y} \\frac{1}{(1 + {exp(-x)})^2} exp(-x) \n",
    "= \\frac{\\partial L}{\\partial y} \\frac{1}{1 + {exp(-x)}} \\frac{exp(-x)}{1 + {exp(-x)}} \n",
    "= \\frac{\\partial L}{\\partial y} y (1-y)\n",
    "$\n",
    "\n"
   ]
  },
  {
   "cell_type": "code",
   "execution_count": 2,
   "metadata": {},
   "outputs": [
    {
     "name": "stdout",
     "output_type": "stream",
     "text": [
      "[[ 1.  -0.5]\n",
      " [-2.   3. ]]\n"
     ]
    }
   ],
   "source": [
    "import numpy as np\n",
    "\n",
    "class Sigmoid:\n",
    "\n",
    "    def __init__(self):\n",
    "        self.out = None\n",
    "\n",
    "    def forword(self, x):\n",
    "        out = 1 / (1 + np.exp(-x))\n",
    "        self.out = out\n",
    "        return out\n",
    "    \n",
    "    def backword(self, dout):\n",
    "        dx = dout * (1.0 - self.out) * self.out\n",
    "        return dx"
   ]
  },
  {
   "cell_type": "markdown",
   "metadata": {},
   "source": [
    "## Affine/Softmax层"
   ]
  },
  {
   "cell_type": "code",
   "execution_count": null,
   "metadata": {},
   "outputs": [],
   "source": [
    "class Affine:\n",
    "    def __init__(self, W, b):\n",
    "        self.W = W\n",
    "        self.b = b\n",
    "        self.x = None\n",
    "        self.dW = None\n",
    "        self.db = None\n",
    "\n",
    "    def forword(self, x):\n",
    "        self.x = x\n",
    "        out = np.dot(x, self.W) + self.b\n",
    "        return out\n",
    "    \n",
    "    def backword(self, dout):\n",
    "        dx = np.dot(dout, self.W.T)\n",
    "        self.dW = np.dot(self.x.T, dout)\n",
    "        self.db = np.sum(dout, axis = 0)\n",
    "        return dx"
   ]
  }
 ],
 "metadata": {
  "kernelspec": {
   "display_name": "Python 3",
   "language": "python",
   "name": "python3"
  },
  "language_info": {
   "codemirror_mode": {
    "name": "ipython",
    "version": 3
   },
   "file_extension": ".py",
   "mimetype": "text/x-python",
   "name": "python",
   "nbconvert_exporter": "python",
   "pygments_lexer": "ipython3",
   "version": "3.10.6"
  },
  "orig_nbformat": 4
 },
 "nbformat": 4,
 "nbformat_minor": 2
}
