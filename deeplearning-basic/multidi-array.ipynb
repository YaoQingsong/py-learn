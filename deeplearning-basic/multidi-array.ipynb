{
 "cells": [
  {
   "attachments": {},
   "cell_type": "markdown",
   "metadata": {},
   "source": [
    "# 神经网络\n"
   ]
  },
  {
   "attachments": {},
   "cell_type": "markdown",
   "metadata": {},
   "source": [
    "## 多维数组运算"
   ]
  },
  {
   "attachments": {},
   "cell_type": "markdown",
   "metadata": {},
   "source": [
    "### 使用unmpy处理数组"
   ]
  },
  {
   "cell_type": "code",
   "execution_count": 2,
   "metadata": {},
   "outputs": [
    {
     "name": "stdout",
     "output_type": "stream",
     "text": [
      "[1 2 3 4]\n"
     ]
    }
   ],
   "source": [
    "import numpy as np\n",
    "A = np.array([1,2,3,4])\n",
    "# 打印数组\n",
    "print(A) "
   ]
  },
  {
   "cell_type": "code",
   "execution_count": null,
   "metadata": {},
   "outputs": [],
   "source": [
    "# 输出数组维度\n",
    "print(np.ndim(A))"
   ]
  },
  {
   "cell_type": "code",
   "execution_count": null,
   "metadata": {},
   "outputs": [],
   "source": [
    "# 数组形状\n",
    "print(A.shape)\n",
    "# 数组第一个维度形状\n",
    "print(A.shape[0])"
   ]
  },
  {
   "attachments": {},
   "cell_type": "markdown",
   "metadata": {},
   "source": [
    "### 矩阵的乘法\n",
    "使用np.dot(A,B)计算数组乘法"
   ]
  },
  {
   "cell_type": "code",
   "execution_count": null,
   "metadata": {},
   "outputs": [],
   "source": [
    "B = np.array([[1,2],\n",
    "              [3,4]])\n",
    "\n",
    "C = np.array([[5,6],\n",
    "              [7,8]])\n",
    "\n",
    "print(np.dot(B,C))"
   ]
  },
  {
   "cell_type": "code",
   "execution_count": null,
   "metadata": {},
   "outputs": [],
   "source": [
    "X = np.array([1,2])\n",
    "W = np.array([[1,3,5],\n",
    "              [2,4,6]])\n",
    "print(np.dot(X,W))"
   ]
  },
  {
   "attachments": {},
   "cell_type": "markdown",
   "metadata": {},
   "source": [
    "### 三层神经网络实现"
   ]
  },
  {
   "attachments": {},
   "cell_type": "markdown",
   "metadata": {},
   "source": [
    "输入层到第一层\n",
    "\n",
    "输入X, 第一层 $ A^{(1)} $, 权重 $ W^{(1)} $, 偏置 $ B^{(1)} $\n",
    "\n",
    "$ A^{(1)}= XW^{(1)} + B^{(1)}  $"
   ]
  },
  {
   "cell_type": "code",
   "execution_count": null,
   "metadata": {},
   "outputs": [],
   "source": [
    "# sigmod函数\n",
    "def sigmod(x):\n",
    "    return 1 / (1 + np.exp(-x))"
   ]
  },
  {
   "cell_type": "code",
   "execution_count": null,
   "metadata": {},
   "outputs": [],
   "source": [
    "\n",
    "X = np.array([1.0, 0.5])\n",
    "W1 = np.array([[0.1, 0.3, 0.5],\n",
    "               [0.2, 0.4, 0.6]])\n",
    "B1 = np.array([0.1, 0.2, 0.3])\n",
    "\n",
    "A1 = np.dot(X, W1) + B1\n",
    "print(A1)\n",
    "Z1 = sigmod(A1)\n",
    "print(Z1)"
   ]
  },
  {
   "attachments": {},
   "cell_type": "markdown",
   "metadata": {},
   "source": [
    "第一层到第二层"
   ]
  },
  {
   "cell_type": "code",
   "execution_count": null,
   "metadata": {},
   "outputs": [],
   "source": [
    "W2 = np.array([[0.1, 0.4],\n",
    "               [0.2, 0.5],\n",
    "               [0.3, 0.6]])\n",
    "B2 = np.array([0.1, 0.2])\n",
    "\n",
    "A2 = np.dot(Z1,W2) + B2\n",
    "print(A2)\n",
    "Z2 = sigmod(A2)\n",
    "print(Z2)"
   ]
  },
  {
   "attachments": {},
   "cell_type": "markdown",
   "metadata": {},
   "source": [
    "第二层到输出层"
   ]
  },
  {
   "cell_type": "code",
   "execution_count": null,
   "metadata": {},
   "outputs": [],
   "source": [
    "def identity_func(x):\n",
    "    return x;\n",
    "\n",
    "W3 = np.array([[0.1, 0.3],\n",
    "               [0.2, 0.4]])\n",
    "B3 = np.array([0.1, 0.2])\n",
    "A3 = np.dot(Z2,W3) + B3\n",
    "print(A3)\n",
    "\n",
    "Y = identity_func(A3)"
   ]
  },
  {
   "attachments": {},
   "cell_type": "markdown",
   "metadata": {},
   "source": [
    "代码实现小结"
   ]
  },
  {
   "cell_type": "code",
   "execution_count": null,
   "metadata": {},
   "outputs": [],
   "source": [
    "def init_network():\n",
    "    network = {}\n",
    "    network['W1'] = np.array([[0.1, 0.3, 0.5],\n",
    "                              [0.2, 0.4, 0.6]])\n",
    "    network['b1'] = np.array([0.1, 0.2, 0.3])\n",
    "    network['W2'] = np.array([[0.1, 0.4],\n",
    "                              [0.2, 0.5],\n",
    "                              [0.3, 0.6]])\n",
    "    network['b2'] = np.array([0.1, 0.2])\n",
    "    network['W3'] = np.array([[0.1, 0.3],\n",
    "                              [0.2, 0.4]])\n",
    "    network['b3'] = np.array([0.1, 0.2])\n",
    "\n",
    "    return network\n",
    "\n",
    "def forward(network, x):\n",
    "    W1, W2, W3 = network['W1'], network['W2'], network['W3']\n",
    "    b1, b2, b3 = network['b1'], network['b2'], network['b3']\n",
    "\n",
    "    a1 = np.dot(x,W1) + b1\n",
    "    z1 = sigmod(a1)\n",
    "\n",
    "    a2 = np.dot(z1,W2) + b2\n",
    "    z2 = sigmod(a2)\n",
    "\n",
    "    a3 = np.dot(z2,W3) + b3\n",
    "    y = identity_func(a3)\n",
    "\n",
    "    return y\n",
    "\n",
    "network = init_network()\n",
    "x = np.array([1.0, 0.5])\n",
    "y = forward(network, x)\n",
    "print(y)"
   ]
  },
  {
   "attachments": {},
   "cell_type": "markdown",
   "metadata": {},
   "source": [
    "## 输出层设计\n",
    "\n",
    "神经网络可以用在分类问题和回归问题上，不过要根据情况改变输出层的激活函数。一般回归问题用恒等函数，分类问题用softmax函数。"
   ]
  },
  {
   "attachments": {},
   "cell_type": "markdown",
   "metadata": {},
   "source": [
    "### 恒等函数\n",
    "\n",
    "恒等函数会将输入原样输出"
   ]
  },
  {
   "attachments": {},
   "cell_type": "markdown",
   "metadata": {},
   "source": [
    "### softmax函数\n",
    "\n",
    "$ y_k = \\frac{exp(a_k)}{\\sum_{i=1}^n {exp(a_i)}}$\n",
    "\n",
    "其中 $ exp(x) $ 表示 $ e^x $"
   ]
  },
  {
   "cell_type": "code",
   "execution_count": null,
   "metadata": {},
   "outputs": [],
   "source": [
    "a = np.array([0.3, 2.9, 4.0])\n",
    "exp_a = np.exp(a)\n",
    "print(exp_a)\n",
    "\n",
    "sum_exp_a = np.sum(exp_a)\n",
    "print(sum_exp_a)\n",
    "\n",
    "y = exp_a / sum_exp_a\n",
    "print(y)"
   ]
  },
  {
   "attachments": {},
   "cell_type": "markdown",
   "metadata": {},
   "source": [
    "实现softmax函数"
   ]
  },
  {
   "cell_type": "code",
   "execution_count": null,
   "metadata": {},
   "outputs": [],
   "source": [
    "#会出现溢出问题,a比较大时，e的a次幂就会变得相当大\n",
    "def softmax_1(a):\n",
    "    exp_a = np.exp(a)\n",
    "    sym_exp_a = np.sum(exp_a)\n",
    "    y = exp_a / sum_exp_a\n",
    "    return y\n",
    "\n",
    "print(softmax_1(100))\n",
    "print(softmax_1(np.array([1010,1000,900])))"
   ]
  },
  {
   "attachments": {},
   "cell_type": "markdown",
   "metadata": {},
   "source": [
    "softmax函数改进\n",
    "\n",
    "$ y_k \n",
    "= \\frac{e^{a_k}}{\\sum_{i=1}^n {e^{a_i}}} \n",
    "= \\frac{C e^{a_k}}{C \\sum_{i=1}^n {e^{a_i}}} \n",
    "= \\frac{e^{a_k + logC}}{\\sum_{i=1}^n {e^{a_i + logC}}} \n",
    "= \\frac{e^{a_k + C'}}{\\sum_{i=1}^n {e^{a_i + C'}}}\n",
    "= \\frac{exp(a_k + C')}{\\sum_{i=1}^n {exp(a_i + C')}} $ \n",
    "\n",
    "通过上式，发现在进行softmax指数函数运算时，加上或减去某个常数并不会改变计算结果\n",
    "\n",
    "softmax函数输出是0.0道1.0之间的实数，并且softmax函数的输出值总和是1。正是应为这个性质，我们才可以把softmax函数解释成概率"
   ]
  },
  {
   "cell_type": "code",
   "execution_count": 3,
   "metadata": {},
   "outputs": [
    {
     "name": "stdout",
     "output_type": "stream",
     "text": [
      "[9.99954602e-01 4.53978687e-05 1.68883521e-48]\n",
      "1.0\n"
     ]
    }
   ],
   "source": [
    "def softmax(a):\n",
    "    c = np.max(a)\n",
    "    exp_a = np.exp(a - c) #溢出对策\n",
    "    sum_exp_a = np.sum(exp_a)\n",
    "    y = exp_a/sum_exp_a\n",
    "    return y\n",
    "\n",
    "a = np.array([1010,1000,900])\n",
    "y = softmax(a)\n",
    "print(y)\n",
    "print(np.sum(y))"
   ]
  },
  {
   "attachments": {},
   "cell_type": "markdown",
   "metadata": {},
   "source": [
    "## 手写数字识别"
   ]
  },
  {
   "cell_type": "code",
   "execution_count": 1,
   "metadata": {},
   "outputs": [
    {
     "name": "stdout",
     "output_type": "stream",
     "text": [
      "(60000, 784)\n",
      "(60000,)\n",
      "(10000, 784)\n",
      "(10000,)\n"
     ]
    }
   ],
   "source": [
    "import sys, os\n",
    "sys.path.append(os.pardir)\n",
    "from dataset.mnist import load_mnist\n",
    "\n",
    "#第一次调用会下载数据集\n",
    "(x_train, t_train) , (x_test, t_test) = load_mnist(flatten=True, normalize=False)\n",
    "\n",
    "#输出各个数据的形状\n",
    "print(x_train.shape)\n",
    "print(t_train.shape)\n",
    "print(x_test.shape)\n",
    "print(t_test.shape)"
   ]
  },
  {
   "cell_type": "code",
   "execution_count": 1,
   "metadata": {},
   "outputs": [
    {
     "name": "stdout",
     "output_type": "stream",
     "text": [
      "5\n",
      "(784,)\n",
      "(28, 28)\n"
     ]
    },
    {
     "data": {
      "image/png": "[encoded data removed]",
      "text/plain": [
       "<PIL.Image.Image image mode=L size=28x28>"
      ]
     },
     "metadata": {},
     "output_type": "display_data"
    }
   ],
   "source": [
    "import sys, os\n",
    "sys.path.append(os.pardir)\n",
    "import numpy as np\n",
    "from dataset.mnist import load_mnist\n",
    "from PIL import Image\n",
    "\n",
    "def img_show(img):\n",
    "    pil_img = Image.fromarray(np.uint8(img))\n",
    "    pil_img.show()\n",
    "\n",
    "\n",
    "#第一次调用会下载数据集\n",
    "(x_train, t_train) , (x_test, t_test) = load_mnist(flatten=True, normalize=False)\n",
    "\n",
    "img = x_train[0]\n",
    "label = t_train[0]\n",
    "print(label)\n",
    "\n",
    "print(img.shape)\n",
    "img = img.reshape(28, 28)\n",
    "print(img.shape)\n",
    "\n",
    "img_show(img)"
   ]
  },
  {
   "cell_type": "code",
   "execution_count": 14,
   "metadata": {},
   "outputs": [
    {
     "name": "stdout",
     "output_type": "stream",
     "text": [
      "(100, 784)\n",
      "(100, 10)\n",
      "(100, 784)\n",
      "(100, 10)\n",
      "(100, 784)\n",
      "(100, 10)\n",
      "(100, 784)\n",
      "(100, 10)\n",
      "(100, 784)\n",
      "(100, 10)\n",
      "(100, 784)\n",
      "(100, 10)\n",
      "(100, 784)\n",
      "(100, 10)\n",
      "(100, 784)\n",
      "(100, 10)\n",
      "(100, 784)\n",
      "(100, 10)\n",
      "(100, 784)\n",
      "(100, 10)\n",
      "(100, 784)\n",
      "(100, 10)\n",
      "(100, 784)\n",
      "(100, 10)\n",
      "(100, 784)\n",
      "(100, 10)\n",
      "(100, 784)\n",
      "(100, 10)\n",
      "(100, 784)\n",
      "(100, 10)\n",
      "(100, 784)\n",
      "(100, 10)\n",
      "(100, 784)\n",
      "(100, 10)\n",
      "(100, 784)\n",
      "(100, 10)\n",
      "(100, 784)\n",
      "(100, 10)\n",
      "(100, 784)\n",
      "(100, 10)\n",
      "(100, 784)\n",
      "(100, 10)\n",
      "(100, 784)\n",
      "(100, 10)\n",
      "(100, 784)\n",
      "(100, 10)\n",
      "(100, 784)\n",
      "(100, 10)\n",
      "(100, 784)\n",
      "(100, 10)\n",
      "(100, 784)\n",
      "(100, 10)\n",
      "(100, 784)\n",
      "(100, 10)\n",
      "(100, 784)\n",
      "(100, 10)\n",
      "(100, 784)\n",
      "(100, 10)\n",
      "(100, 784)\n",
      "(100, 10)\n",
      "(100, 784)\n",
      "(100, 10)\n",
      "(100, 784)\n",
      "(100, 10)\n",
      "(100, 784)\n",
      "(100, 10)\n",
      "(100, 784)\n",
      "(100, 10)\n",
      "(100, 784)\n",
      "(100, 10)\n",
      "(100, 784)\n",
      "(100, 10)\n",
      "(100, 784)\n",
      "(100, 10)\n",
      "(100, 784)\n",
      "(100, 10)\n",
      "(100, 784)\n",
      "(100, 10)\n",
      "(100, 784)\n",
      "(100, 10)\n",
      "(100, 784)\n",
      "(100, 10)\n",
      "(100, 784)\n",
      "(100, 10)\n",
      "(100, 784)\n",
      "(100, 10)\n",
      "(100, 784)\n",
      "(100, 10)\n",
      "(100, 784)\n",
      "(100, 10)\n",
      "(100, 784)\n",
      "(100, 10)\n",
      "(100, 784)\n",
      "(100, 10)\n",
      "(100, 784)\n",
      "(100, 10)\n",
      "(100, 784)\n",
      "(100, 10)\n",
      "(100, 784)\n",
      "(100, 10)\n",
      "(100, 784)\n",
      "(100, 10)\n",
      "(100, 784)\n",
      "(100, 10)\n",
      "(100, 784)\n",
      "(100, 10)\n",
      "(100, 784)\n",
      "(100, 10)\n",
      "(100, 784)\n",
      "(100, 10)\n",
      "(100, 784)\n",
      "(100, 10)\n",
      "(100, 784)\n",
      "(100, 10)\n",
      "(100, 784)\n",
      "(100, 10)\n",
      "(100, 784)\n",
      "(100, 10)\n",
      "(100, 784)\n",
      "(100, 10)\n",
      "(100, 784)\n",
      "(100, 10)\n",
      "(100, 784)\n",
      "(100, 10)\n",
      "(100, 784)\n",
      "(100, 10)\n",
      "(100, 784)\n",
      "(100, 10)\n",
      "(100, 784)\n",
      "(100, 10)\n",
      "(100, 784)\n",
      "(100, 10)\n",
      "(100, 784)\n",
      "(100, 10)\n",
      "(100, 784)\n",
      "(100, 10)\n",
      "(100, 784)\n",
      "(100, 10)\n",
      "(100, 784)\n",
      "(100, 10)\n",
      "(100, 784)\n",
      "(100, 10)\n",
      "(100, 784)\n",
      "(100, 10)\n",
      "(100, 784)\n",
      "(100, 10)\n",
      "(100, 784)\n",
      "(100, 10)\n",
      "(100, 784)\n",
      "(100, 10)\n",
      "(100, 784)\n",
      "(100, 10)\n",
      "(100, 784)\n",
      "(100, 10)\n",
      "(100, 784)\n",
      "(100, 10)\n",
      "(100, 784)\n",
      "(100, 10)\n",
      "(100, 784)\n",
      "(100, 10)\n",
      "(100, 784)\n",
      "(100, 10)\n",
      "(100, 784)\n",
      "(100, 10)\n",
      "(100, 784)\n",
      "(100, 10)\n",
      "(100, 784)\n",
      "(100, 10)\n",
      "(100, 784)\n",
      "(100, 10)\n",
      "(100, 784)\n",
      "(100, 10)\n",
      "(100, 784)\n",
      "(100, 10)\n",
      "(100, 784)\n",
      "(100, 10)\n",
      "(100, 784)\n",
      "(100, 10)\n",
      "(100, 784)\n",
      "(100, 10)\n",
      "(100, 784)\n",
      "(100, 10)\n",
      "(100, 784)\n",
      "(100, 10)\n",
      "(100, 784)\n",
      "(100, 10)\n",
      "(100, 784)\n",
      "(100, 10)\n",
      "(100, 784)\n",
      "(100, 10)\n",
      "(100, 784)\n",
      "(100, 10)\n",
      "(100, 784)\n",
      "(100, 10)\n",
      "(100, 784)\n",
      "(100, 10)\n",
      "(100, 784)\n",
      "(100, 10)\n",
      "(99, 784)\n",
      "(99, 10)\n",
      "Accuracy:0.0958\n"
     ]
    }
   ],
   "source": [
    "# 神经网络的推理处理\n",
    "import sys, os\n",
    "sys.path.append(os.pardir)  # 为了导入父目录的文件而进行的设定\n",
    "import numpy as np\n",
    "import pickle\n",
    "from dataset.mnist import load_mnist\n",
    "from common.functions import sigmoid, softmax\n",
    "\n",
    "\n",
    "def get_data():\n",
    "    (x_train, t_train), (x_test, t_test) = load_mnist(normalize=True, flatten=True, one_hot_label=False)\n",
    "    return x_test, t_test\n",
    "\n",
    "\n",
    "def init_network():\n",
    "    with open(\"sample_weight.pkl\", 'rb') as f:\n",
    "        network = pickle.load(f)\n",
    "    return network\n",
    "\n",
    "\n",
    "def predict(network, x):\n",
    "    W1, W2, W3 = network['W1'], network['W2'], network['W3']\n",
    "    b1, b2, b3 = network['b1'], network['b2'], network['b3']\n",
    "\n",
    "    #np.dot矩阵乘法,x(784),W1(784,50) W1转置后与x相乘\n",
    "    a1 = np.dot(x, W1) + b1 #a1(50)\n",
    "    z1 = sigmoid(a1)\n",
    "    a2 = np.dot(z1, W2) + b2#z1(50) W2(50,100)\n",
    "    z2 = sigmoid(a2)\n",
    "    a3 = np.dot(z2, W3) + b3#z2(100) W2(100,10)\n",
    "    y = softmax(a3)\n",
    "\n",
    "    return y\n",
    "\n",
    "\n",
    "x, t = get_data()\n",
    "network = init_network()\n",
    "accuracy_cnt = 0\n",
    "for i in range(len(x)):\n",
    "    y = predict(network, x[i])\n",
    "    p= np.argmax(y) # 获取概率最高的元素的索引\n",
    "    if p == t[i]:\n",
    "        accuracy_cnt += 1\n",
    "\n",
    "#批处理\n",
    "# batch_size = 100\n",
    "# accuracy_cnt = 0\n",
    "# for i in range(1, len(x), batch_size): #range(start, end, step)\n",
    "#     x_batch = x[i:i+batch_size]\n",
    "#     y_batch = predict(network, x_batch)\n",
    "#     p= np.argmax(y) \n",
    "#     accuracy_cnt += np.sum(p==t[i:i+batch_size])\n",
    "\n",
    "print(\"Accuracy:\" + str(float(accuracy_cnt) / len(x)))"
   ]
  },
  {
   "cell_type": "code",
   "execution_count": null,
   "metadata": {},
   "outputs": [],
   "source": [
    "#"
   ]
  }
 ],
 "metadata": {
  "kernelspec": {
   "display_name": "Python 3",
   "language": "python",
   "name": "python3"
  },
  "language_info": {
   "codemirror_mode": {
    "name": "ipython",
    "version": 3
   },
   "file_extension": ".py",
   "mimetype": "text/x-python",
   "name": "python",
   "nbconvert_exporter": "python",
   "pygments_lexer": "ipython3",
   "version": "3.10.6"
  },
  "orig_nbformat": 4,
  "vscode": {
   "interpreter": {
    "hash": "916dbcbb3f70747c44a77c7bcd40155683ae19c65e1c03b4aa3499c5328201f1"
   }
  }
 },
 "nbformat": 4,
 "nbformat_minor": 2
}
